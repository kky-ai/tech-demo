{
  "cells": [
    {
      "attachments": {},
      "cell_type": "markdown",
      "metadata": {
        "colab_type": "text",
        "id": "view-in-github"
      },
      "source": [
        "<a href=\"https://colab.research.google.com/github/kky-ai/tech-demo/blob/main/semantic_similarity.ipynb\" target=\"_parent\"><img src=\"https://colab.research.google.com/assets/colab-badge.svg\" alt=\"Open In Colab\"/></a>"
      ]
    },
    {
      "attachments": {},
      "cell_type": "markdown",
      "metadata": {},
      "source": [
        "#### Semantic Similarity Model"
      ]
    },
    {
      "attachments": {},
      "cell_type": "markdown",
      "metadata": {},
      "source": [
        "##### Install libs"
      ]
    },
    {
      "cell_type": "code",
      "execution_count": null,
      "metadata": {},
      "outputs": [],
      "source": [
        "!pip install sentence-transformers\n",
        "!pip install numpy"
      ]
    },
    {
      "attachments": {},
      "cell_type": "markdown",
      "metadata": {},
      "source": [
        "#### Initialize the model\n",
        "---\n",
        "- using library: https://www.sbert.net\n",
        "\n",
        "#### [Pre-trained models](https://www.sbert.net/docs/pretrained_models.html)\n",
        "\n",
        "Reimers, N., & Gurevych, I. (2019). Sentence-BERT: Sentence Embeddings using Siamese BERT-Networks. In Proceedings of the 2019 Conference on Empirical Methods in Natural Language Processing. Association for Computational Linguistics.\n",
        "\n",
        "#### [Czech (KKY) pre-trained model](https://huggingface.co/fav-kky/FERNET-C5)"
      ]
    },
    {
      "cell_type": "code",
      "execution_count": 2,
      "metadata": {
        "id": "uIpMUnQWsijU"
      },
      "outputs": [],
      "source": [
        "from sentence_transformers import SentenceTransformer\n",
        "import numpy as np\n",
        "\n",
        "\n",
        "class SSModel:\n",
        "    \"\"\" Semantic Similarity Model \"\"\"\n",
        "    \n",
        "    def __init__(self):\n",
        "        self.bert_model = SentenceTransformer('all-mpnet-base-v2')\n",
        "\n",
        "    def similarity(self, a, b):\n",
        "        return np.linalg.norm(a-b)\n",
        "    \n",
        "ss = SSModel()"
      ]
    },
    {
      "attachments": {},
      "cell_type": "markdown",
      "metadata": {},
      "source": [
        "##### Example usage"
      ]
    },
    {
      "cell_type": "code",
      "execution_count": null,
      "metadata": {
        "id": "9JEC8wW5sijW",
        "outputId": "d37a79c7-adb4-4321-ac3e-9a910e5c8dc5"
      },
      "outputs": [
        {
          "name": "stdout",
          "output_type": "stream",
          "text": [
            "Q0: How many siblings do you have?\n",
            "\n",
            "[0.3885] How many brothers and sisters do you have?\n",
            "[0.7127] Do you have any brothers or sisters?\n",
            "[1.0081] What can you tell about your family?\n",
            "[1.1591] What was your mother's name?\n",
            "[1.2738] What did you have for lunch?\n"
          ]
        }
      ],
      "source": [
        "q0 = 'How many siblings do you have?'\n",
        "\n",
        "testing_questions = (\n",
        "    'How many brothers and sisters do you have?',\n",
        "    'Do you have any brothers or sisters?',\n",
        "    'What can you tell about your family?',\n",
        "    'What was your mother\\'s name?',\n",
        "    'What did you have for lunch?'\n",
        ")\n",
        "\n",
        "print(f'Q0: {q0}', end='\\n\\n')\n",
        "emb0 = ss.bert_model.encode(q0)\n",
        "for q in testing_questions:\n",
        "    emb = ss.bert_model.encode(q)\n",
        "    sim_score = str(ss.similarity(emb0, emb).round(4))\n",
        "    print(f'[{sim_score}] {q}')"
      ]
    }
  ],
  "metadata": {
    "colab": {
      "include_colab_link": true,
      "provenance": []
    },
    "kernelspec": {
      "display_name": "net",
      "language": "python",
      "name": "python3"
    },
    "language_info": {
      "codemirror_mode": {
        "name": "ipython",
        "version": 3
      },
      "file_extension": ".py",
      "mimetype": "text/x-python",
      "name": "python",
      "nbconvert_exporter": "python",
      "pygments_lexer": "ipython3",
      "version": "3.6.13"
    },
    "orig_nbformat": 4
  },
  "nbformat": 4,
  "nbformat_minor": 0
}
