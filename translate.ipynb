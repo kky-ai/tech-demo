{
  "cells": [
    {
      "cell_type": "markdown",
      "metadata": {
        "colab_type": "text",
        "id": "view-in-github"
      },
      "source": [
        "<a href=\"https://colab.research.google.com/github/kky-ai/tech-demo/blob/main/translate.ipynb\" target=\"_parent\"><img src=\"https://colab.research.google.com/assets/colab-badge.svg\" alt=\"Open In Colab\"/></a>"
      ]
    },
    {
      "cell_type": "code",
      "execution_count": 1,
      "metadata": {
        "colab": {
          "base_uri": "https://localhost:8080/"
        },
        "id": "Av61pGKvuhQz",
        "outputId": "8bbb3869-3b2f-4ef2-920a-4d265ef53702"
      },
      "outputs": [
        {
          "name": "stdout",
          "output_type": "stream",
          "text": [
            "What was your father's name?\n"
          ]
        }
      ],
      "source": [
        "from requests import post\n",
        "\n",
        "BASE_URL = 'https://lindat.cz/services/translation/api/v2/languages/'\n",
        "\n",
        "def translate(text, src='cs', tgt='en'):\n",
        "    translator_url = f'{BASE_URL}?src={src}&tgt={tgt}'\n",
        "    ret = post(translator_url, data = {'input_text': text})\n",
        "    return ret.content.decode('utf-8').strip()\n",
        "\n",
        "ret = translate('Jak se jmenoval váš otec?')\n",
        "print(ret)"
      ]
    }
  ],
  "metadata": {
    "colab": {
      "include_colab_link": true,
      "provenance": []
    },
    "kernelspec": {
      "display_name": "net",
      "language": "python",
      "name": "python3"
    },
    "language_info": {
      "codemirror_mode": {
        "name": "ipython",
        "version": 3
      },
      "file_extension": ".py",
      "mimetype": "text/x-python",
      "name": "python",
      "nbconvert_exporter": "python",
      "pygments_lexer": "ipython3",
      "version": "3.6.13"
    },
    "orig_nbformat": 4
  },
  "nbformat": 4,
  "nbformat_minor": 0
}
