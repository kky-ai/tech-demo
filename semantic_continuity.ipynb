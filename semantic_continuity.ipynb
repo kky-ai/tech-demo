{
  "cells": [
    {
      "attachments": {},
      "cell_type": "markdown",
      "metadata": {
        "colab_type": "text",
        "id": "view-in-github"
      },
      "source": [
        "<a href=\"https://colab.research.google.com/github/kky-ai/tech-demo/blob/main/semantic_continuity.ipynb\" target=\"_parent\"><img src=\"https://colab.research.google.com/assets/colab-badge.svg\" alt=\"Open In Colab\"/></a>"
      ]
    },
    {
      "attachments": {},
      "cell_type": "markdown",
      "metadata": {},
      "source": [
        "#### Semantic Continuity Model - Example usage\n"
      ]
    },
    {
      "attachments": {},
      "cell_type": "markdown",
      "metadata": {},
      "source": [
        "##### Download model"
      ]
    },
    {
      "cell_type": "code",
      "execution_count": null,
      "metadata": {},
      "outputs": [],
      "source": [
        "# Downlaod the SC model from GDrive\n",
        "\n",
        "!gdown 1ok3CbvVeEv4J5Y0SkNoVk4ifdHnQd4qy && unzip -u sc.zip"
      ]
    },
    {
      "attachments": {},
      "cell_type": "markdown",
      "metadata": {},
      "source": [
        "##### Install libs"
      ]
    },
    {
      "cell_type": "code",
      "execution_count": null,
      "metadata": {},
      "outputs": [],
      "source": [
        "!pip install transformers==4.18\n",
        "#!pip install tensorflow==2.6.2\n",
        "!pip install numpy"
      ]
    },
    {
      "attachments": {},
      "cell_type": "markdown",
      "metadata": {},
      "source": [
        "##### Initialize the model"
      ]
    },
    {
      "cell_type": "code",
      "execution_count": null,
      "metadata": {
        "id": "H5C6K7kFrqEP"
      },
      "outputs": [],
      "source": [
        "from transformers import AutoTokenizer\n",
        "from transformers.optimization_tf import WarmUp\n",
        "from tensorflow.keras.models import load_model\n",
        "from tensorflow.keras.preprocessing.sequence import pad_sequences\n",
        "import numpy as np\n",
        "\n",
        "class SCModel:\n",
        "    \"\"\" Semantic Continuity Model \"\"\"\n",
        "\n",
        "    def __init__(self):\n",
        "        self.tokenizer = AutoTokenizer.from_pretrained('bert-base-cased')\n",
        "        self.pad_token_id = self.tokenizer.pad_token_id\n",
        "        self.cls_token_id = self.tokenizer.cls_token_id\n",
        "        self.sep_token_id = self.tokenizer.sep_token_id\n",
        "        self.mask_token_id = self.tokenizer.mask_token_id\n",
        "\n",
        "        self.model, self.embedder, self.dist_model = None, None, None\n",
        "        self.load_models()\n",
        "\n",
        "    def load_models(self):\n",
        "        self.model = load_model('sc/model', custom_objects={'WarmUp': WarmUp, 'siamese_loss': None})\n",
        "        self.embedder = self.model.get_layer('embedder')\n",
        "        self.dist_model = self.model.get_layer('dist_model')\n",
        "        print('Models loaded.')\n",
        "\n",
        "    def vectorize_seq(self, seq, max_len):\n",
        "        seq = self.tokenizer.tokenize(seq)\n",
        "        input_ids = [self.cls_token_id, *self.tokenizer.convert_tokens_to_ids(seq), self.sep_token_id]\n",
        "        input_ids = pad_sequences([input_ids], maxlen=max_len, dtype=np.int32, padding='post', value=self.pad_token_id)\n",
        "        return input_ids\n",
        "        \n",
        "    def score(self, prompt, reaction):\n",
        "        _, pemb = self.embedder.predict(self.vectorize_seq(prompt, max_len=32))\n",
        "        remb, _ = self.embedder.predict(self.vectorize_seq(reaction, max_len=64))\n",
        "        dist, prob = self.dist_model.predict([pemb, remb])\n",
        "        return float(dist)\n",
        "    \n",
        "\n",
        "sc = SCModel()"
      ]
    },
    {
      "attachments": {},
      "cell_type": "markdown",
      "metadata": {},
      "source": [
        "##### Example usage"
      ]
    },
    {
      "cell_type": "code",
      "execution_count": 7,
      "metadata": {
        "id": "HfIoekdtrqER",
        "outputId": "6e14afc9-8ed3-4161-dae1-3240cac85b6e"
      },
      "outputs": [
        {
          "name": "stdout",
          "output_type": "stream",
          "text": [
            "Q: What did you have for lunch?\n",
            "\n",
            "[0.0305] For lunch we had some fish and chips.\n",
            "[0.0432] We did not eat at all.\n",
            "[0.4193] We visited the city center. Then we had fish and chips.\n",
            "[1.5441] We visited the city center. Then we had some lunch.\n",
            "[1.832] We've been to the North London Derby. Arsenal was fantastic.\n"
          ]
        }
      ],
      "source": [
        "q = 'What did you have for lunch?'\n",
        "\n",
        "following = (\n",
        "    'For lunch we had some fish and chips.',\n",
        "    'We did not eat at all.',\n",
        "    'We visited the city center. Then we had fish and chips.',\n",
        "    'We visited the city center. Then we had some lunch.',\n",
        "    'We\\'ve been to the North London Derby. Arsenal was fantastic.'\n",
        ")\n",
        "\n",
        "print(f'Q: {q}', end='\\n\\n')\n",
        "for context in following:\n",
        "    dist = sc.score(q, context)\n",
        "    print(f'[{round(dist, 4)}] {context}')"
      ]
    }
  ],
  "metadata": {
    "colab": {
      "include_colab_link": true,
      "provenance": []
    },
    "kernelspec": {
      "display_name": "net",
      "language": "python",
      "name": "python3"
    },
    "language_info": {
      "codemirror_mode": {
        "name": "ipython",
        "version": 3
      },
      "file_extension": ".py",
      "mimetype": "text/x-python",
      "name": "python",
      "nbconvert_exporter": "python",
      "pygments_lexer": "ipython3",
      "version": "3.6.13"
    },
    "orig_nbformat": 4
  },
  "nbformat": 4,
  "nbformat_minor": 0
}
