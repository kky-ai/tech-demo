{
  "cells": [
    {
      "attachments": {},
      "cell_type": "markdown",
      "metadata": {
        "colab_type": "text",
        "id": "view-in-github"
      },
      "source": [
        "<a href=\"https://colab.research.google.com/github/kky-ai/tech-demo/blob/main/semantic_continuity.ipynb\" target=\"_parent\"><img src=\"https://colab.research.google.com/assets/colab-badge.svg\" alt=\"Open In Colab\"/></a>"
      ]
    },
    {
      "attachments": {},
      "cell_type": "markdown",
      "metadata": {},
      "source": [
        "#### Semantic Continuity Model - Example usage\n"
      ]
    },
    {
      "attachments": {},
      "cell_type": "markdown",
      "metadata": {},
      "source": [
        "##### Download model"
      ]
    },
    {
      "cell_type": "code",
      "execution_count": null,
      "metadata": {},
      "outputs": [],
      "source": [
        "# Downlaod the AQ model from the GDrive\n",
        "\n",
        "!gdown 1_uMuYyGDyXw98SK43dJRQYLY2KtSz46m && unzip -u sc.zip"
      ]
    },
    {
      "attachments": {},
      "cell_type": "markdown",
      "metadata": {},
      "source": [
        "##### Install libs"
      ]
    },
    {
      "cell_type": "code",
      "execution_count": 8,
      "metadata": {},
      "outputs": [
        {
          "name": "stdout",
          "output_type": "stream",
          "text": [
            "Requirement already satisfied: transformers==4.18 in /Users/kitt/miniconda3/envs/net/lib/python3.6/site-packages (4.18.0)\n",
            "Requirement already satisfied: dataclasses in /Users/kitt/miniconda3/envs/net/lib/python3.6/site-packages (from transformers==4.18) (0.8)\n",
            "Requirement already satisfied: tokenizers!=0.11.3,<0.13,>=0.11.1 in /Users/kitt/miniconda3/envs/net/lib/python3.6/site-packages (from transformers==4.18) (0.12.1)\n",
            "Requirement already satisfied: packaging>=20.0 in /Users/kitt/miniconda3/envs/net/lib/python3.6/site-packages (from transformers==4.18) (21.3)\n",
            "Requirement already satisfied: requests in /Users/kitt/miniconda3/envs/net/lib/python3.6/site-packages (from transformers==4.18) (2.27.1)\n",
            "Requirement already satisfied: numpy>=1.17 in /Users/kitt/miniconda3/envs/net/lib/python3.6/site-packages (from transformers==4.18) (1.19.5)\n",
            "Requirement already satisfied: huggingface-hub<1.0,>=0.1.0 in /Users/kitt/miniconda3/envs/net/lib/python3.6/site-packages (from transformers==4.18) (0.4.0)\n",
            "Requirement already satisfied: regex!=2019.12.17 in /Users/kitt/miniconda3/envs/net/lib/python3.6/site-packages (from transformers==4.18) (2022.4.24)\n",
            "Requirement already satisfied: tqdm>=4.27 in /Users/kitt/miniconda3/envs/net/lib/python3.6/site-packages (from transformers==4.18) (4.64.0)\n",
            "Requirement already satisfied: importlib-metadata in /Users/kitt/miniconda3/envs/net/lib/python3.6/site-packages (from transformers==4.18) (4.8.3)\n",
            "Requirement already satisfied: sacremoses in /Users/kitt/miniconda3/envs/net/lib/python3.6/site-packages (from transformers==4.18) (0.0.53)\n",
            "Requirement already satisfied: filelock in /Users/kitt/miniconda3/envs/net/lib/python3.6/site-packages (from transformers==4.18) (3.4.1)\n",
            "Requirement already satisfied: pyyaml>=5.1 in /Users/kitt/miniconda3/envs/net/lib/python3.6/site-packages (from transformers==4.18) (6.0)\n",
            "Requirement already satisfied: typing-extensions>=3.7.4.3 in /Users/kitt/miniconda3/envs/net/lib/python3.6/site-packages (from huggingface-hub<1.0,>=0.1.0->transformers==4.18) (3.7.4.3)\n",
            "Requirement already satisfied: pyparsing!=3.0.5,>=2.0.2 in /Users/kitt/miniconda3/envs/net/lib/python3.6/site-packages (from packaging>=20.0->transformers==4.18) (3.0.8)\n",
            "Requirement already satisfied: importlib-resources in /Users/kitt/miniconda3/envs/net/lib/python3.6/site-packages (from tqdm>=4.27->transformers==4.18) (5.4.0)\n",
            "Requirement already satisfied: zipp>=0.5 in /Users/kitt/miniconda3/envs/net/lib/python3.6/site-packages (from importlib-metadata->transformers==4.18) (3.6.0)\n",
            "Requirement already satisfied: charset-normalizer~=2.0.0 in /Users/kitt/miniconda3/envs/net/lib/python3.6/site-packages (from requests->transformers==4.18) (2.0.12)\n",
            "Requirement already satisfied: urllib3<1.27,>=1.21.1 in /Users/kitt/miniconda3/envs/net/lib/python3.6/site-packages (from requests->transformers==4.18) (1.26.9)\n",
            "Requirement already satisfied: certifi>=2017.4.17 in /Users/kitt/miniconda3/envs/net/lib/python3.6/site-packages (from requests->transformers==4.18) (2021.10.8)\n",
            "Requirement already satisfied: idna<4,>=2.5 in /Users/kitt/miniconda3/envs/net/lib/python3.6/site-packages (from requests->transformers==4.18) (3.3)\n",
            "Requirement already satisfied: click in /Users/kitt/miniconda3/envs/net/lib/python3.6/site-packages (from sacremoses->transformers==4.18) (8.0.4)\n",
            "Requirement already satisfied: six in /Users/kitt/miniconda3/envs/net/lib/python3.6/site-packages (from sacremoses->transformers==4.18) (1.15.0)\n",
            "Requirement already satisfied: joblib in /Users/kitt/miniconda3/envs/net/lib/python3.6/site-packages (from sacremoses->transformers==4.18) (1.1.0)\n",
            "\u001b[31mERROR: Could not find a version that satisfies the requirement tensorflow==2.7 (from versions: 0.12.1, 1.0.0, 1.1.0, 1.2.0, 1.2.1, 1.3.0, 1.4.0, 1.4.1, 1.5.0, 1.5.1, 1.6.0, 1.7.0, 1.7.1, 1.8.0, 1.9.0, 1.10.0, 1.10.1, 1.11.0, 1.12.0, 1.12.2, 1.12.3, 1.13.1, 1.13.2, 1.14.0, 1.15.0, 1.15.2, 1.15.3, 1.15.4, 1.15.5, 2.0.0, 2.0.1, 2.0.2, 2.0.3, 2.0.4, 2.1.0, 2.1.1, 2.1.2, 2.1.3, 2.1.4, 2.2.0, 2.2.1, 2.2.2, 2.2.3, 2.3.0, 2.3.1, 2.3.2, 2.3.3, 2.3.4, 2.4.0, 2.4.1, 2.4.2, 2.4.3, 2.4.4, 2.5.0, 2.5.1, 2.5.2, 2.6.0rc0, 2.6.0rc1, 2.6.0rc2, 2.6.0, 2.6.1, 2.6.2)\u001b[0m\n",
            "\u001b[31mERROR: No matching distribution found for tensorflow==2.7\u001b[0m\n",
            "Requirement already satisfied: numpy in /Users/kitt/miniconda3/envs/net/lib/python3.6/site-packages (1.19.5)\n"
          ]
        }
      ],
      "source": [
        "!pip install transformers==4.18\n",
        "#!pip install tensorflow==2.6.2\n",
        "!pip install numpy"
      ]
    },
    {
      "attachments": {},
      "cell_type": "markdown",
      "metadata": {},
      "source": [
        "##### Initialize the model"
      ]
    },
    {
      "cell_type": "code",
      "execution_count": null,
      "metadata": {
        "id": "H5C6K7kFrqEP"
      },
      "outputs": [],
      "source": [
        "from transformers import AutoTokenizer\n",
        "from transformers.optimization_tf import WarmUp\n",
        "from tensorflow.keras.models import load_model\n",
        "from tensorflow.keras.preprocessing.sequence import pad_sequences\n",
        "import numpy as np\n",
        "\n",
        "class SCModel:\n",
        "    \"\"\" Semantic Continuity Model \"\"\"\n",
        "\n",
        "    def __init__(self):\n",
        "        self.tokenizer = AutoTokenizer.from_pretrained('bert-base-cased')\n",
        "        self.pad_token_id = self.tokenizer.pad_token_id\n",
        "        self.cls_token_id = self.tokenizer.cls_token_id\n",
        "        self.sep_token_id = self.tokenizer.sep_token_id\n",
        "        self.mask_token_id = self.tokenizer.mask_token_id\n",
        "\n",
        "        self.model, self.embedder, self.dist_model = None, None, None\n",
        "        self.load_models()\n",
        "\n",
        "    def load_models(self):\n",
        "        self.model = load_model('sc/model', custom_objects={'WarmUp': WarmUp, 'siamese_loss': None})\n",
        "        self.embedder = self.model.get_layer('embedder')\n",
        "        self.dist_model = self.model.get_layer('dist_model')\n",
        "        print('Models loaded.')\n",
        "\n",
        "    def vectorize_seq(self, seq, max_len):\n",
        "        seq = self.tokenizer.tokenize(seq)\n",
        "        input_ids = [self.cls_token_id, *self.tokenizer.convert_tokens_to_ids(seq), self.sep_token_id]\n",
        "        input_ids = pad_sequences([input_ids], maxlen=max_len, dtype=np.int32, padding='post', value=self.pad_token_id)\n",
        "        return input_ids\n",
        "        \n",
        "    def score(self, prompt, reaction):\n",
        "        _, pemb = self.embedder.predict(self.vectorize_seq(prompt, max_len=32))\n",
        "        remb, _ = self.embedder.predict(self.vectorize_seq(reaction, max_len=64))\n",
        "        dist, prob = self.dist_model.predict([pemb, remb])\n",
        "        return float(dist)\n",
        "    \n",
        "\n",
        "sc = SCModel()"
      ]
    },
    {
      "attachments": {},
      "cell_type": "markdown",
      "metadata": {},
      "source": [
        "##### Example usage"
      ]
    },
    {
      "cell_type": "code",
      "execution_count": 7,
      "metadata": {
        "id": "HfIoekdtrqER",
        "outputId": "6e14afc9-8ed3-4161-dae1-3240cac85b6e"
      },
      "outputs": [
        {
          "name": "stdout",
          "output_type": "stream",
          "text": [
            "Q: What did you have for lunch?\n",
            "\n",
            "[0.0305] For lunch we had some fish and chips.\n",
            "[0.0432] We did not eat at all.\n",
            "[0.4193] We visited the city center. Then we had fish and chips.\n",
            "[1.5441] We visited the city center. Then we had some lunch.\n",
            "[1.832] We've been to the North London Derby. Arsenal was fantastic.\n"
          ]
        }
      ],
      "source": [
        "q = 'What did you have for lunch?'\n",
        "\n",
        "following = (\n",
        "    'For lunch we had some fish and chips.',\n",
        "    'We did not eat at all.',\n",
        "    'We visited the city center. Then we had fish and chips.',\n",
        "    'We visited the city center. Then we had some lunch.',\n",
        "    'We\\'ve been to the North London Derby. Arsenal was fantastic.'\n",
        ")\n",
        "\n",
        "print(f'Q: {q}', end='\\n\\n')\n",
        "for context in following:\n",
        "    dist = sc.score(q, context)\n",
        "    print(f'[{round(dist, 4)}] {context}')"
      ]
    }
  ],
  "metadata": {
    "colab": {
      "include_colab_link": true,
      "provenance": []
    },
    "kernelspec": {
      "display_name": "net",
      "language": "python",
      "name": "python3"
    },
    "language_info": {
      "codemirror_mode": {
        "name": "ipython",
        "version": 3
      },
      "file_extension": ".py",
      "mimetype": "text/x-python",
      "name": "python",
      "nbconvert_exporter": "python",
      "pygments_lexer": "ipython3",
      "version": "3.6.13"
    },
    "orig_nbformat": 4
  },
  "nbformat": 4,
  "nbformat_minor": 0
}
